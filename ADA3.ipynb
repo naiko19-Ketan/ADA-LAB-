{
 "cells": [
  {
   "attachments": {},
   "cell_type": "markdown",
   "metadata": {},
   "source": [
    "Q1.) Write a Program to Reverse a given stack of integers using recursion. Create a recurrence relation and calculate its Time Complexity "
   ]
  },
  {
   "cell_type": "code",
   "execution_count": 1,
   "metadata": {},
   "outputs": [
    {
     "name": "stdout",
     "output_type": "stream",
     "text": [
      "['6', '4', '0', '0']\n"
     ]
    }
   ],
   "source": [
    "# arr=[1,2,3,4]\n",
    "# reverse_arr=[4,3,2,1]\n",
    "# first pop the last element and then append it in a new list\n",
    "# if new list is not empty reove the elements then append the popped element from previous list and then append \n",
    "# the rest of the elements  \n",
    "def reverse_stack(stack):\n",
    "    if len(stack) == 0:\n",
    "        return\n",
    "    popped = stack.pop()\n",
    "    reverse_stack(stack)\n",
    "    insert_at_bottom(stack, popped)\n",
    "\n",
    "def insert_at_bottom(stack, item):\n",
    "    if len(stack) == 0:\n",
    "        stack.append(item)\n",
    "        return\n",
    "    popped = stack.pop()\n",
    "    insert_at_bottom(stack, item)\n",
    "    stack.append(popped)\n",
    "\n",
    "stack = list(input())\n",
    "reverse_stack(stack)\n",
    "print(stack)"
   ]
  },
  {
   "attachments": {},
   "cell_type": "markdown",
   "metadata": {},
   "source": [
    "Q2.) Given a string 'S'. Write a program to find an array of all possible strings in any order that can be formed by transforming every letter individually to the lowercase or the uppercase"
   ]
  },
  {
   "cell_type": "code",
   "execution_count": 17,
   "metadata": {},
   "outputs": [
    {
     "name": "stdout",
     "output_type": "stream",
     "text": [
      "['a1b', 'a1B', 'a1b', 'a1B', 'A1b', 'A1B', 'A1b', 'A1B']\n"
     ]
    }
   ],
   "source": [
    "combinations=[]\n",
    "def permute(ip, op):\n",
    "    if len(ip) == 0:\n",
    "        combinations.append(op)\n",
    "        return\n",
    " \n",
    "    ch = ip[0].lower()\n",
    "    ch2 = ip[0].upper()\n",
    "    ip = ip[1:]\n",
    "    permute(ip, op+ch)\n",
    "    permute(ip, op+ch2)\n",
    "\n",
    "ip = \"a1b\"\n",
    "permute(ip, \"\")\n",
    "print(combinations)\n",
    " \n"
   ]
  },
  {
   "cell_type": "code",
   "execution_count": 1,
   "metadata": {},
   "outputs": [
    {
     "name": "stdout",
     "output_type": "stream",
     "text": [
      "['ab', 'aB', 'Ab', 'AB']\n",
      "['a1b', 'a1B', 'A1b', 'A1B']\n",
      "['0']\n",
      "['3o9p', '3o9P', '3O9p', '3O9P']\n"
     ]
    }
   ],
   "source": [
    "def letterCasePermutation(S):\n",
    "    res = []\n",
    "    S = list(S)\n",
    "    \n",
    "    def dfs(S, index):\n",
    "        if index == len(S):\n",
    "            res.append(\"\".join(S))\n",
    "            return\n",
    "        dfs(S, index + 1)\n",
    "        if S[index].isalpha():\n",
    "            S[index] = S[index].swapcase()\n",
    "            dfs(S, index + 1)\n",
    "            S[index] = S[index].swapcase()\n",
    "    \n",
    "    dfs(S, 0)\n",
    "    return res\n",
    "print(letterCasePermutation(\"ab\"))\n",
    "print(letterCasePermutation(\"a1b\"))\n",
    "print(letterCasePermutation(\"0\"))\n",
    "print(letterCasePermutation(\"3o9p\"))"
   ]
  }
 ],
 "metadata": {
  "kernelspec": {
   "display_name": "Python 3",
   "language": "python",
   "name": "python3"
  },
  "language_info": {
   "codemirror_mode": {
    "name": "ipython",
    "version": 3
   },
   "file_extension": ".py",
   "mimetype": "text/x-python",
   "name": "python",
   "nbconvert_exporter": "python",
   "pygments_lexer": "ipython3",
   "version": "3.10.5"
  },
  "orig_nbformat": 4,
  "vscode": {
   "interpreter": {
    "hash": "a9cff5a362bc38ef45d817ae74b1af54d6a076e3d773891282bce078b815ba34"
   }
  }
 },
 "nbformat": 4,
 "nbformat_minor": 2
}
