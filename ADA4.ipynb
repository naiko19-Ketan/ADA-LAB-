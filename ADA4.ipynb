{
 "cells": [
  {
   "attachments": {},
   "cell_type": "markdown",
   "metadata": {},
   "source": [
    "Q1.)Given a Stack 'S'. Write a Python Program to SORT the stack recursively in decreasing order.\n",
    "\n",
    "    Note: Looping through stack is not allowed. You need to return a stack that is sorted in decreasing order.\n",
    "\n",
    "Example:\n",
    "Given stack: 5 1 2 6 4\n",
    "Output: 6 5 4 2 1"
   ]
  },
  {
   "cell_type": "code",
   "execution_count": 1,
   "metadata": {},
   "outputs": [
    {
     "name": "stdout",
     "output_type": "stream",
     "text": [
      "[10, 5, 5, -1]\n"
     ]
    }
   ],
   "source": [
    "# import random\n",
    "def sort_stack(stack):\n",
    "    if len(stack) ==0:\n",
    "        return stack\n",
    "    else:\n",
    "        # pivot = stack.pop(random.randrange(start=0,stop=len(stack)))\n",
    "        pivot = stack.pop(0)\n",
    "        # pivot = stack.pop()\n",
    "        greater = []\n",
    "        lesser = []\n",
    "        for item in stack:\n",
    "            if item > pivot:\n",
    "                greater.append(item)\n",
    "            else:\n",
    "                lesser.append(item)\n",
    "        return sort_stack(greater) + [pivot] + sort_stack(lesser)\n",
    "        # return sort_stack(lesser) + [pivot] + sort_stack(greater)\n",
    "stack =[-1,5,10,5]\n",
    "sorted_stack = sort_stack(stack)\n",
    "print(sorted_stack) \n"
   ]
  },
  {
   "attachments": {},
   "cell_type": "markdown",
   "metadata": {},
   "source": [
    "Q2.)Given a text string containing characters only from lowercase alphabetic characters and a pattern string containing characters only from lowercase alphabetic characters and two other special characters '.' and '*'.\n",
    "Write a Python program for pattern matching that returns true if pattern is matched with text otherwise returns false. The matching must be exact, not partial.\n",
    "\n",
    "    \".\" can be any alphabet \n",
    "    \"*\" means the alphabet appearing before * can occur any number of times in the pattern\n",
    "    so we have to tell whether the text given occurs in the possible patterns"
   ]
  },
  {
   "cell_type": "code",
   "execution_count": 1,
   "metadata": {},
   "outputs": [],
   "source": [
    "import re\n",
    "\n",
    "def pattern_matching(text, pattern):\n",
    "    pattern_regex = re.compile('^' + pattern + '$') # create regex pattern string with start and end markers\n",
    "    if re.match(pattern_regex, text): # check if pattern matches text\n",
    "        return True\n",
    "    else:\n",
    "        return False\n"
   ]
  },
  {
   "cell_type": "code",
   "execution_count": 9,
   "metadata": {},
   "outputs": [
    {
     "name": "stdout",
     "output_type": "stream",
     "text": [
      "True\n",
      "True\n",
      "False\n",
      "False\n",
      "True\n",
      "True\n",
      "True\n",
      "True\n",
      "True\n",
      "True\n"
     ]
    }
   ],
   "source": [
    "print(pattern_matching(\"hello\", \"hello\")  )\n",
    "print(pattern_matching(\"hello\", \"h.llo\") )\n",
    "print(pattern_matching(\"hello\", \"h*llo\")  )\n",
    "print(pattern_matching(\"hello\", \"h*l.o\")  )\n",
    "print(pattern_matching(\"hello\", \"h..lo\")  )\n",
    "print(pattern_matching(\"hello\", \"h..l.\")  )\n",
    "print(pattern_matching(\"hello\", \".ello\")  )\n",
    "print(pattern_matching(\"hello\", \"h.*o\")  )\n",
    "print(pattern_matching(\"hello\", \"h.*l.o\")  )\n",
    "print(pattern_matching(\"hello\", \"h.*l.\")  )\n"
   ]
  }
 ],
 "metadata": {
  "kernelspec": {
   "display_name": "Python 3",
   "language": "python",
   "name": "python3"
  },
  "language_info": {
   "codemirror_mode": {
    "name": "ipython",
    "version": 3
   },
   "file_extension": ".py",
   "mimetype": "text/x-python",
   "name": "python",
   "nbconvert_exporter": "python",
   "pygments_lexer": "ipython3",
   "version": "3.10.5"
  },
  "orig_nbformat": 4,
  "vscode": {
   "interpreter": {
    "hash": "a9cff5a362bc38ef45d817ae74b1af54d6a076e3d773891282bce078b815ba34"
   }
  }
 },
 "nbformat": 4,
 "nbformat_minor": 2
}
