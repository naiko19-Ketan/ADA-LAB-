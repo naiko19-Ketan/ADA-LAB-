{
 "cells": [
  {
   "attachments": {},
   "cell_type": "markdown",
   "metadata": {},
   "source": [
    "Q1.) Maximize the number of jobs that can be done over a period of time"
   ]
  },
  {
   "cell_type": "code",
   "execution_count": 2,
   "metadata": {},
   "outputs": [
    {
     "name": "stdout",
     "output_type": "stream",
     "text": [
      "5\n"
     ]
    }
   ],
   "source": [
    "def find_maximum_jobs(N, ranges) :\n",
    "\n",
    "    queue = []\n",
    "    ranges.sort()\n",
    "\n",
    "    min_day = ranges[0][0]\n",
    "    max_day = 0\n",
    "    for i in range(N) :\n",
    "        max_day = max(max_day, ranges[i][1])\n",
    "    index, count_jobs = 0, 0\n",
    "\n",
    "    for i in range(min_day, max_day + 1) :\n",
    "        while (index < len(ranges) and ranges[index][0] <= i) :\n",
    "            queue.append(ranges[index][1])\n",
    "            index += 1\n",
    "\n",
    "        queue.sort()\n",
    "\n",
    "        while (len(queue) > 0 and queue[0] < i) :\n",
    "            queue.pop(0)\n",
    "\n",
    "        if (len(queue) == 0) :\n",
    "            continue\n",
    "\n",
    "        count_jobs += 1\n",
    "\n",
    "        queue.pop(0)\n",
    "\n",
    "    return count_jobs\n",
    "\n",
    "N = 5\n",
    "ranges = []\n",
    "ranges.append((1, 5))\n",
    "ranges.append((1, 5))\n",
    "ranges.append((1, 5))\n",
    "ranges.append((2, 3))\n",
    "ranges.append((2, 3))\n",
    "\n",
    "print(find_maximum_jobs(N, ranges))\n",
    "\n"
   ]
  },
  {
   "attachments": {},
   "cell_type": "markdown",
   "metadata": {},
   "source": [
    "Q2.) Implement Prim's Algorithm"
   ]
  },
  {
   "cell_type": "code",
   "execution_count": 6,
   "metadata": {},
   "outputs": [
    {
     "name": "stdout",
     "output_type": "stream",
     "text": [
      "Edge : Weight\n",
      "\n",
      "0-1:4\n",
      "1-2:2\n",
      "2-4:2\n",
      "2-3:3\n",
      "3-5:3\n"
     ]
    }
   ],
   "source": [
    "INF = 9999999\n",
    "V = 6\n",
    "# create a 2d array of size 5x5\n",
    "# for adjacency matrix to represent graph\n",
    "G = [[0,4,4,0,0,0],\n",
    "     [4,0,2,0,0,0],\n",
    "     [4,2,0,3,2,4],\n",
    "     [0,0,3,0,0,3],\n",
    "     [0,0,2,0,0,3],\n",
    "     [0,0,4,3,3,0]]\n",
    "selected = [0]*V\n",
    "# set number of edge to 0\n",
    "no_edge = 0\n",
    "selected[0] = True\n",
    "print(\"Edge : Weight\\n\")\n",
    "while (no_edge < V - 1):\n",
    "    minimum = INF\n",
    "    x = 0\n",
    "    y = 0\n",
    "    for i in range(V):\n",
    "        if selected[i]:\n",
    "            for j in range(V):\n",
    "                if ((not selected[j]) and G[i][j]):  \n",
    "                    if minimum > G[i][j]:\n",
    "                        minimum = G[i][j]\n",
    "                        x = i\n",
    "                        y = j\n",
    "    print(str(x) + \"-\" + str(y) + \":\" + str(G[x][y]))\n",
    "    selected[y] = True\n",
    "    no_edge += 1"
   ]
  }
 ],
 "metadata": {
  "kernelspec": {
   "display_name": "Python 3",
   "language": "python",
   "name": "python3"
  },
  "language_info": {
   "codemirror_mode": {
    "name": "ipython",
    "version": 3
   },
   "file_extension": ".py",
   "mimetype": "text/x-python",
   "name": "python",
   "nbconvert_exporter": "python",
   "pygments_lexer": "ipython3",
   "version": "3.10.5"
  },
  "orig_nbformat": 4
 },
 "nbformat": 4,
 "nbformat_minor": 2
}
