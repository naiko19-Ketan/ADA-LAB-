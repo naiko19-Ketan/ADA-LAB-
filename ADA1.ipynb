{
 "cells": [
  {
   "cell_type": "code",
   "execution_count": 5,
   "metadata": {},
   "outputs": [
    {
     "name": "stdout",
     "output_type": "stream",
     "text": [
      "There are 7 possible ways to run up the stairs\n"
     ]
    }
   ],
   "source": [
    "def count_ways(n):\n",
    "    ways = [0] * (n + 1)\n",
    "    ways[0] = 1\n",
    "\n",
    "    for i in range(1, n+1):\n",
    "        ways[i] = ways[i-1] + (ways[i-2] if i >=2 else 0) + (ways[i-3] if i>=3 else 0)\n",
    "    \n",
    "    return ways[n]\n",
    "\n",
    "n = int(input(\"Enter the number of steps: \"))\n",
    "ways = count_ways(n)\n",
    "print(f\"There are {ways} possible ways to run up the stairs\")\n"
   ]
  },
  {
   "cell_type": "code",
   "execution_count": 22,
   "metadata": {},
   "outputs": [
    {
     "name": "stdout",
     "output_type": "stream",
     "text": [
      "Motu put the last brick\n"
     ]
    }
   ],
   "source": [
    "def last_brick(n):\n",
    "    patlu = 0\n",
    "    motu = 0\n",
    "    i = 1\n",
    "    while n > 0:\n",
    "        if n >= i:\n",
    "            n -= i\n",
    "            patlu += i\n",
    "        else:\n",
    "            patlu += n\n",
    "            n = 0\n",
    "        if n >= 2*i:\n",
    "            n -= 2*i\n",
    "            motu += 2*i\n",
    "        else:\n",
    "            motu += n\n",
    "            n = 0\n",
    "        i += 1\n",
    "    if patlu > motu:\n",
    "        return \"Patlu\"\n",
    "    else:\n",
    "        return \"Motu\"\n",
    "\n",
    "\n",
    "n = int(input(\"Enter the number of bricks: \"))\n",
    "winner = last_brick(n)\n",
    "print(f\"{winner} put the last brick\")\n"
   ]
  }
 ],
 "metadata": {
  "kernelspec": {
   "display_name": "Python 3",
   "language": "python",
   "name": "python3"
  },
  "language_info": {
   "codemirror_mode": {
    "name": "ipython",
    "version": 3
   },
   "file_extension": ".py",
   "mimetype": "text/x-python",
   "name": "python",
   "nbconvert_exporter": "python",
   "pygments_lexer": "ipython3",
   "version": "3.10.5"
  },
  "orig_nbformat": 4,
  "vscode": {
   "interpreter": {
    "hash": "a9cff5a362bc38ef45d817ae74b1af54d6a076e3d773891282bce078b815ba34"
   }
  }
 },
 "nbformat": 4,
 "nbformat_minor": 2
}
