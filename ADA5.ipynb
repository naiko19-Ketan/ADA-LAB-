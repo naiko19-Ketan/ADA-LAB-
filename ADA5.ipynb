{
 "cells": [
  {
   "attachments": {},
   "cell_type": "markdown",
   "metadata": {},
   "source": [
    "Given a sorted array A containing N integers both positive and negative.\n",
    "You need to create another array containing the squares of all the elements in A and return it in non-decreasing order.\n",
    "Write a Python program to implement this in O(N) time."
   ]
  },
  {
   "cell_type": "code",
   "execution_count": 1,
   "metadata": {},
   "outputs": [],
   "source": [
    "def sorted_squares(arr):\n",
    "    n = len(arr)\n",
    "    result = [0] * n\n",
    "    left, right = 0, n - 1\n",
    "    i = n - 1\n",
    "\n",
    "    while left <= right:\n",
    "        if abs(arr[left]) > abs(arr[right]):\n",
    "            result[i] = arr[left] ** 2\n",
    "            left += 1\n",
    "        else:\n",
    "            result[i] = arr[right] ** 2\n",
    "            right -= 1\n",
    "        i -= 1\n",
    "\n",
    "    return result\n"
   ]
  },
  {
   "cell_type": "code",
   "execution_count": 2,
   "metadata": {},
   "outputs": [
    {
     "data": {
      "text/plain": [
       "[0, 1, 4, 16, 25]"
      ]
     },
     "execution_count": 2,
     "metadata": {},
     "output_type": "execute_result"
    }
   ],
   "source": [
    "sorted_squares([-5, -4, -2, 0, 1])"
   ]
  }
 ],
 "metadata": {
  "kernelspec": {
   "display_name": "Python 3",
   "language": "python",
   "name": "python3"
  },
  "language_info": {
   "codemirror_mode": {
    "name": "ipython",
    "version": 3
   },
   "file_extension": ".py",
   "mimetype": "text/x-python",
   "name": "python",
   "nbconvert_exporter": "python",
   "pygments_lexer": "ipython3",
   "version": "3.10.5"
  },
  "orig_nbformat": 4,
  "vscode": {
   "interpreter": {
    "hash": "a9cff5a362bc38ef45d817ae74b1af54d6a076e3d773891282bce078b815ba34"
   }
  }
 },
 "nbformat": 4,
 "nbformat_minor": 2
}
