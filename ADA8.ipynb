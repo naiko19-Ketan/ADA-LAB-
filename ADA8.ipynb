{
 "cells": [
  {
   "attachments": {},
   "cell_type": "markdown",
   "metadata": {},
   "source": [
    "Q1.)Given two strings A and B, find the minimum number of steps required to convert A to B. (each operation is counted as 1 step.)\n",
    "    You have the following 3 operations permitted on a word:\n",
    "\n",
    "    Insert a character\n",
    "\n",
    "    Delete a character\n",
    "\n",
    "    Replace a character\n",
    "\n"
   ]
  },
  {
   "cell_type": "code",
   "execution_count": 17,
   "metadata": {},
   "outputs": [],
   "source": [
    "def minDistance( A, B):\n",
    "    ans=solve(A,B,len(A),len(B))\n",
    "    return ans\n",
    "def solve( A, B, n, m):\n",
    "    t=[[0]*(m+1) for _ in range (n+1)]\n",
    "\n",
    "    for i in range (1,n+1):\n",
    "        t[i][0]=i\n",
    "    for i in range (1,m+1):\n",
    "        t[0][i]=i\n",
    "    \n",
    "    for i in range (1,n+1):\n",
    "        for j in range (1,m+1):\n",
    "            if (A[i-1]==B[j-1]):\n",
    "                t[i][j]=t[i-1][j-1]\n",
    "            else:\n",
    "                t[i][j]=1+min(t[i-1][j-1], t[i-1][j], t[i][j-1])\n",
    "    return t[n][m]\n"
   ]
  },
  {
   "cell_type": "code",
   "execution_count": 26,
   "metadata": {},
   "outputs": [
    {
     "name": "stdout",
     "output_type": "stream",
     "text": [
      "3\n"
     ]
    }
   ],
   "source": [
    "str1 = \"karun\"\n",
    "str2 = \"ketan\"\n",
    " \n",
    "print(minDistance(str1,str2))"
   ]
  }
 ],
 "metadata": {
  "kernelspec": {
   "display_name": "Python 3",
   "language": "python",
   "name": "python3"
  },
  "language_info": {
   "codemirror_mode": {
    "name": "ipython",
    "version": 3
   },
   "file_extension": ".py",
   "mimetype": "text/x-python",
   "name": "python",
   "nbconvert_exporter": "python",
   "pygments_lexer": "ipython3",
   "version": "3.10.5"
  },
  "orig_nbformat": 4
 },
 "nbformat": 4,
 "nbformat_minor": 2
}
