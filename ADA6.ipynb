{
 "cells": [
  {
   "attachments": {},
   "cell_type": "markdown",
   "metadata": {},
   "source": [
    "Q1.) Given an M × N matrix, which is row-wise and column-wise sorted (with all strictly increasing elements in any row or column), write a program in Python to report all occurrences of a given element in it in linear time.\n"
   ]
  },
  {
   "cell_type": "code",
   "execution_count": 34,
   "metadata": {},
   "outputs": [],
   "source": [
    "def find_occurrences(matrix, target):\n",
    "    occurrences = []\n",
    "    row, col = 0, len(matrix[0]) - 1\n",
    "    while row < len(matrix) and col >= 0:\n",
    "        if matrix[row][col] == target:\n",
    "            occurrences.append((row, col))\n",
    "            col -= 1\n",
    "        elif matrix[row][col] > target:\n",
    "            col -= 1\n",
    "        else:\n",
    "            row += 1\n",
    "    return occurrences\n"
   ]
  },
  {
   "cell_type": "code",
   "execution_count": 35,
   "metadata": {},
   "outputs": [
    {
     "data": {
      "text/plain": [
       "[(0, 3), (2, 2), (3, 0)]"
      ]
     },
     "execution_count": 35,
     "metadata": {},
     "output_type": "execute_result"
    }
   ],
   "source": [
    "find_occurrences([[-4,-3,-1, 3, 5],\n",
    "\t\t    \t  [-3,-2, 2, 4, 6],\n",
    "\t\t\t\t  [-1, 1, 3, 5, 8],\n",
    "\t\t\t\t  [ 3, 4, 7, 8, 9]]  , 3)"
   ]
  },
  {
   "attachments": {},
   "cell_type": "markdown",
   "metadata": {},
   "source": [
    "Q2.) Write a Python program to perform Matrix multiplication using Strassen's method"
   ]
  },
  {
   "cell_type": "code",
   "execution_count": 20,
   "metadata": {},
   "outputs": [],
   "source": [
    "import numpy as np\n",
    "\n",
    "def split(matrix):\n",
    "\trow, col = matrix.shape\n",
    "\t# n = matrix.shape[0]\n",
    "\trow2, col2 = row//2, col//2\n",
    "\t# mid=n//2\n",
    "\treturn matrix[:row2, :col2], matrix[:row2, col2:], matrix[row2:, :col2], matrix[row2:, col2:]\n",
    "\t# return matrix[:mid, :mid], matrix[:mid, mid:], matrix[mid:, :mid], matrix[mid:, mid:]\n",
    "\n",
    "def strassen(x, y):\n",
    "\tif len(x) == 1:\n",
    "\t\treturn x * y\n",
    "\n",
    "\ta, b, c, d = split(x)\n",
    "\te, f, g, h = split(y)\n",
    "\n",
    "\tp1 = strassen(a, f - h)\n",
    "\tp2 = strassen(a + b, h)\t\n",
    "\tp3 = strassen(c + d, e)\t\n",
    "\tp4 = strassen(d, g - e)\t\n",
    "\tp5 = strassen(a + d, e + h)\t\n",
    "\tp6 = strassen(b - d, g + h)\n",
    "\tp7 = strassen(a - c, e + f)\n",
    "\n",
    "\tc11 = p5 + p4 - p2 + p6\n",
    "\tc12 = p1 + p2\t\t\n",
    "\tc21 = p3 + p4\t\t\n",
    "\tc22 = p1 + p5 - p3 - p7\n",
    "\n",
    "\tc = np.vstack((np.hstack((c11, c12)), np.hstack((c21, c22))))\n",
    "\n",
    "\treturn c\n"
   ]
  },
  {
   "cell_type": "code",
   "execution_count": 21,
   "metadata": {},
   "outputs": [
    {
     "data": {
      "text/plain": [
       "array([[ 8,  8,  8,  8],\n",
       "       [16, 16, 16, 16],\n",
       "       [24, 24, 24, 24],\n",
       "       [16, 16, 16, 16]])"
      ]
     },
     "execution_count": 21,
     "metadata": {},
     "output_type": "execute_result"
    }
   ],
   "source": [
    "a= np.array([[ 1, 1, 1, 1 ],\n",
    "             [ 2, 2, 2, 2 ],\n",
    "             [ 3, 3, 3, 3 ],\n",
    "             [ 2, 2, 2, 2 ] ])\n",
    "b=np.array([[ 1, 1, 1, 1 ],\n",
    "            [ 2, 2, 2, 2 ],\n",
    "            [ 3, 3, 3, 3 ],\n",
    "            [ 2, 2, 2, 2 ]])\n",
    "strassen(a,b)"
   ]
  }
 ],
 "metadata": {
  "kernelspec": {
   "display_name": "Python 3",
   "language": "python",
   "name": "python3"
  },
  "language_info": {
   "codemirror_mode": {
    "name": "ipython",
    "version": 3
   },
   "file_extension": ".py",
   "mimetype": "text/x-python",
   "name": "python",
   "nbconvert_exporter": "python",
   "pygments_lexer": "ipython3",
   "version": "3.10.5"
  },
  "orig_nbformat": 4,
  "vscode": {
   "interpreter": {
    "hash": "a9cff5a362bc38ef45d817ae74b1af54d6a076e3d773891282bce078b815ba34"
   }
  }
 },
 "nbformat": 4,
 "nbformat_minor": 2
}
